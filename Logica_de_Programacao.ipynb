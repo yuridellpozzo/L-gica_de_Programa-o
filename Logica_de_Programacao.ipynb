{
  "nbformat": 4,
  "nbformat_minor": 0,
  "metadata": {
    "colab": {
      "provenance": [],
      "collapsed_sections": [
        "UvfJwFziqwQP",
        "Mcbw_JC8qEeZ",
        "mJ1A1lEB0lEM",
        "XJr3Gi9YNASk",
        "c0Ybd56xllKc",
        "-pCJa4tJoEba",
        "FXQSmEAxQb_c",
        "qizX82iuFjC_",
        "JTl7gznqld8T",
        "VqGcpGNllo1e",
        "BLHmXAeh3iwG"
      ],
      "authorship_tag": "ABX9TyOinQ7wUWbslHhzfx5/NW+j",
      "include_colab_link": true
    },
    "kernelspec": {
      "name": "python3",
      "display_name": "Python 3"
    },
    "language_info": {
      "name": "python"
    }
  },
  "cells": [
    {
      "cell_type": "markdown",
      "metadata": {
        "id": "view-in-github",
        "colab_type": "text"
      },
      "source": [
        "<a href=\"https://colab.research.google.com/github/yuridellpozzo/Logica_de_Programacao/blob/main/Logica_de_Programacao.ipynb\" target=\"_parent\"><img src=\"https://colab.research.google.com/assets/colab-badge.svg\" alt=\"Open In Colab\"/></a>"
      ]
    },
    {
      "cell_type": "markdown",
      "source": [
        "#**CURSO LÓGICA DE PROGRAMAÇÃO COM PYTHON**"
      ],
      "metadata": {
        "id": "XjnXUAAGmy-o"
      }
    },
    {
      "cell_type": "markdown",
      "source": [
        " ## **MATERIAL DE APOO - CURSO**"
      ],
      "metadata": {
        "id": "IAFbZ8ySnn-h"
      }
    },
    {
      "cell_type": "markdown",
      "source": [
        "### **mais exemplos de markdown**"
      ],
      "metadata": {
        "id": "UvfJwFziqwQP"
      }
    },
    {
      "cell_type": "markdown",
      "source": [
        "TITULO\n",
        "> SUBTITULO\n",
        ">> TOPICOS - DESCRIÇÃO - ALGO PERTENCENTE Á UM SUBTITULO, QUE  PERTENCE A UM TITULO GERAL."
      ],
      "metadata": {
        "id": "0ldA7YflsCYG"
      }
    },
    {
      "cell_type": "markdown",
      "source": [
        "para que serve o `print` do python"
      ],
      "metadata": {
        "id": "Kv3joKrAtvgW"
      }
    },
    {
      "cell_type": "markdown",
      "source": [
        "1.   Item de lista numerada\n",
        "2.   Item de lista numerada\n",
        "\n",
        "\n",
        "*   Item de lista com ponto \" por * \"\n",
        "*   Item de lista com ponto \" por * \""
      ],
      "metadata": {
        "id": "y4kSqUyXuDVf"
      }
    },
    {
      "cell_type": "markdown",
      "source": [
        "explicação de organização\n",
        "> organização TOPICO OU SUBTITULO\n",
        "> - PEGAR\n",
        "> - USAR\n",
        "> - TERMINAR\n",
        "> - GUARDAR"
      ],
      "metadata": {
        "id": "nvcSavZAxT39"
      }
    },
    {
      "cell_type": "markdown",
      "source": [
        "EU ENCONTREI ISTE MATERIAL NO SITE E CURSO DO [JOVIANO](https://joviano.com/conteudos/?utm_source=youtube&utm_medium=org&utm_campaign=video&utm_term=88---cursos-gratuitos&utm_content=logica-de-programacao-com-python-v2023)"
      ],
      "metadata": {
        "id": "HgWFjjB2yDaF"
      }
    },
    {
      "cell_type": "markdown",
      "source": [
        "<div align=\"center\"> <img src=\"https://joviano.com/wp-content/webp-express/webp-images/uploads/2022/10/Asset-10.png.webp\" width=\"50%\"> </div>"
      ],
      "metadata": {
        "id": "UZgrpniHygOv"
      }
    },
    {
      "cell_type": "markdown",
      "source": [
        "***"
      ],
      "metadata": {
        "id": "ew-vbduRzxZt"
      }
    },
    {
      "cell_type": "markdown",
      "source": [
        "---"
      ],
      "metadata": {
        "id": "5MHXfYS0zlxN"
      }
    },
    {
      "cell_type": "markdown",
      "source": [
        "### **operações matematicas**"
      ],
      "metadata": {
        "id": "Mcbw_JC8qEeZ"
      }
    },
    {
      "cell_type": "code",
      "source": [
        "3-1"
      ],
      "metadata": {
        "colab": {
          "base_uri": "https://localhost:8080/"
        },
        "id": "ZOlnW_SXeQjt",
        "outputId": "2678cdb5-7bf5-43f3-94e6-cb7be791445b"
      },
      "execution_count": 8,
      "outputs": [
        {
          "output_type": "execute_result",
          "data": {
            "text/plain": [
              "2"
            ]
          },
          "metadata": {},
          "execution_count": 8
        }
      ]
    },
    {
      "cell_type": "code",
      "execution_count": 9,
      "metadata": {
        "colab": {
          "base_uri": "https://localhost:8080/"
        },
        "id": "_mCPCbJociTc",
        "outputId": "3a2c6c6e-5272-4540-c6e2-9222a07588c8"
      },
      "outputs": [
        {
          "output_type": "execute_result",
          "data": {
            "text/plain": [
              "5"
            ]
          },
          "metadata": {},
          "execution_count": 9
        }
      ],
      "source": [
        "3 + 2"
      ]
    },
    {
      "cell_type": "code",
      "source": [
        "5*3"
      ],
      "metadata": {
        "colab": {
          "base_uri": "https://localhost:8080/"
        },
        "id": "MEjaRFIgk6L0",
        "outputId": "47cb9e89-34eb-467b-b04a-b6d26569e335"
      },
      "execution_count": 10,
      "outputs": [
        {
          "output_type": "execute_result",
          "data": {
            "text/plain": [
              "15"
            ]
          },
          "metadata": {},
          "execution_count": 10
        }
      ]
    },
    {
      "cell_type": "code",
      "source": [
        "6/5"
      ],
      "metadata": {
        "colab": {
          "base_uri": "https://localhost:8080/"
        },
        "id": "BJsV8c5jk_rg",
        "outputId": "6a71c3b3-7591-44af-e563-373f229b481a"
      },
      "execution_count": 11,
      "outputs": [
        {
          "output_type": "execute_result",
          "data": {
            "text/plain": [
              "1.2"
            ]
          },
          "metadata": {},
          "execution_count": 11
        }
      ]
    },
    {
      "cell_type": "code",
      "source": [
        "10//3"
      ],
      "metadata": {
        "colab": {
          "base_uri": "https://localhost:8080/"
        },
        "id": "Yu-g93fMlLLo",
        "outputId": "d0d5bc81-a475-4e96-94fe-43d6a154b5a1"
      },
      "execution_count": 12,
      "outputs": [
        {
          "output_type": "execute_result",
          "data": {
            "text/plain": [
              "3"
            ]
          },
          "metadata": {},
          "execution_count": 12
        }
      ]
    },
    {
      "cell_type": "code",
      "source": [
        "10 % 3"
      ],
      "metadata": {
        "colab": {
          "base_uri": "https://localhost:8080/"
        },
        "id": "55KeVQctlPyI",
        "outputId": "e4122313-4f98-4045-e9b6-31d0f3990f30"
      },
      "execution_count": 13,
      "outputs": [
        {
          "output_type": "execute_result",
          "data": {
            "text/plain": [
              "1"
            ]
          },
          "metadata": {},
          "execution_count": 13
        }
      ]
    },
    {
      "cell_type": "code",
      "source": [
        "5 ** 3"
      ],
      "metadata": {
        "colab": {
          "base_uri": "https://localhost:8080/"
        },
        "id": "NNHBg_OdlXVg",
        "outputId": "e2da0bd4-414e-46e3-b636-7dc24ba0afca"
      },
      "execution_count": 14,
      "outputs": [
        {
          "output_type": "execute_result",
          "data": {
            "text/plain": [
              "125"
            ]
          },
          "metadata": {},
          "execution_count": 14
        }
      ]
    },
    {
      "cell_type": "markdown",
      "source": [
        "### variáveis"
      ],
      "metadata": {
        "id": "mJ1A1lEB0lEM"
      }
    },
    {
      "cell_type": "markdown",
      "source": [
        "- usando variaveis"
      ],
      "metadata": {
        "id": "DmzFtl5W3AD2"
      }
    },
    {
      "cell_type": "code",
      "source": [
        "x = 10"
      ],
      "metadata": {
        "id": "edd8wp4p0uDn"
      },
      "execution_count": 15,
      "outputs": []
    },
    {
      "cell_type": "code",
      "source": [
        "x = x**2"
      ],
      "metadata": {
        "id": "A3MkwJ7G1sd_"
      },
      "execution_count": 16,
      "outputs": []
    },
    {
      "cell_type": "code",
      "source": [
        "x = x/2"
      ],
      "metadata": {
        "id": "TgvJGkEA10gF"
      },
      "execution_count": 17,
      "outputs": []
    },
    {
      "cell_type": "code",
      "source": [
        "x"
      ],
      "metadata": {
        "colab": {
          "base_uri": "https://localhost:8080/"
        },
        "id": "MBS8yUI019t1",
        "outputId": "151d5813-624e-47da-f8ad-27dd45767f5e"
      },
      "execution_count": 18,
      "outputs": [
        {
          "output_type": "execute_result",
          "data": {
            "text/plain": [
              "50.0"
            ]
          },
          "metadata": {},
          "execution_count": 18
        }
      ]
    },
    {
      "cell_type": "markdown",
      "source": [
        "- penal com penal interno"
      ],
      "metadata": {
        "id": "rTkqpDYz3Gw2"
      }
    },
    {
      "cell_type": "code",
      "source": [
        "def penalzao(numero):\n",
        "  x = numero\n",
        "  x = x **2\n",
        "  x = x / 2\n",
        "  print('o numero calculado é: ', x)"
      ],
      "metadata": {
        "id": "DX5sbHnl1_uu"
      },
      "execution_count": 19,
      "outputs": []
    },
    {
      "cell_type": "code",
      "source": [
        "penalzao(7.5)"
      ],
      "metadata": {
        "colab": {
          "base_uri": "https://localhost:8080/"
        },
        "id": "SQ-BFo-e329Q",
        "outputId": "aa6d0aed-f110-4cef-8781-83094688e216"
      },
      "execution_count": 20,
      "outputs": [
        {
          "output_type": "stream",
          "name": "stdout",
          "text": [
            "o numero calculado é:  28.125\n"
          ]
        }
      ]
    },
    {
      "cell_type": "markdown",
      "source": [
        "#### Definições iniciais"
      ],
      "metadata": {
        "id": "XJr3Gi9YNASk"
      }
    },
    {
      "cell_type": "markdown",
      "source": [
        "- tipos de conteúdos das variaveis"
      ],
      "metadata": {
        "id": "_J4znaNv9Zi8"
      }
    },
    {
      "cell_type": "markdown",
      "source": [
        ">>Conteudo do tipo:\n",
        "\n",
        "\n",
        "> *   valores numéricos (inteiros, quebrados, com virgula)\n",
        "> *   valores textuais - caracteres (string, char)\n",
        "\n"
      ],
      "metadata": {
        "id": "oK9q1gsv96Gk"
      }
    },
    {
      "cell_type": "markdown",
      "source": [
        "> outros tipos de conteúdo que podem ter em uma varável:\n",
        "- listas (tipo a lista de compras de casa)\n",
        "- tabelas\n",
        "- matrizes 2D/3D\n",
        "- dicionarios (elementos com chave e valor)\n",
        "- funções (def penalzao)\n",
        "- entre outras diversas de afinidades etc..."
      ],
      "metadata": {
        "id": "KLFg6cJEL6uE"
      }
    },
    {
      "cell_type": "markdown",
      "source": [
        "#### Exemplos"
      ],
      "metadata": {
        "id": "d-jgKXHpNISs"
      }
    },
    {
      "cell_type": "code",
      "source": [
        "3 + 5"
      ],
      "metadata": {
        "colab": {
          "base_uri": "https://localhost:8080/"
        },
        "id": "rDHIGdQWNj6k",
        "outputId": "af869e0f-4f5b-4da0-9c3c-f7040918d3d8"
      },
      "execution_count": 21,
      "outputs": [
        {
          "output_type": "execute_result",
          "data": {
            "text/plain": [
              "8"
            ]
          },
          "metadata": {},
          "execution_count": 21
        }
      ]
    },
    {
      "cell_type": "code",
      "source": [
        "3 + int(\"7\")"
      ],
      "metadata": {
        "colab": {
          "base_uri": "https://localhost:8080/"
        },
        "id": "47EyOXoKNlBd",
        "outputId": "26d7fd08-f98f-4d54-b2d5-810ec748c9fd"
      },
      "execution_count": 22,
      "outputs": [
        {
          "output_type": "execute_result",
          "data": {
            "text/plain": [
              "10"
            ]
          },
          "metadata": {},
          "execution_count": 22
        }
      ]
    },
    {
      "cell_type": "code",
      "source": [
        "\"0,1,\" * 5"
      ],
      "metadata": {
        "colab": {
          "base_uri": "https://localhost:8080/",
          "height": 0
        },
        "id": "W4qttOHzNn5t",
        "outputId": "66e58a2e-512c-4b84-c08c-75d1d7c802f7"
      },
      "execution_count": 23,
      "outputs": [
        {
          "output_type": "execute_result",
          "data": {
            "text/plain": [
              "'0,1,0,1,0,1,0,1,0,1,'"
            ],
            "application/vnd.google.colaboratory.intrinsic+json": {
              "type": "string"
            }
          },
          "metadata": {},
          "execution_count": 23
        }
      ]
    },
    {
      "cell_type": "code",
      "source": [
        "nome = \"joviano 88\""
      ],
      "metadata": {
        "id": "KdQxTLTsNy-N"
      },
      "execution_count": 24,
      "outputs": []
    },
    {
      "cell_type": "markdown",
      "source": [
        "### interacao com o usuario"
      ],
      "metadata": {
        "id": "c0Ybd56xllKc"
      }
    },
    {
      "cell_type": "markdown",
      "source": [
        "- vou querer perguntar um numero ao meu usuário e imprimir na tela o dobro dele"
      ],
      "metadata": {
        "id": "V8m5bJl_ltV5"
      }
    },
    {
      "cell_type": "code",
      "source": [
        "x = 5\n",
        "x = x ** 2\n",
        "x"
      ],
      "metadata": {
        "colab": {
          "base_uri": "https://localhost:8080/"
        },
        "id": "T3TOQWnLl0cP",
        "outputId": "71d51881-e4ea-406a-c4be-ae97990943ea"
      },
      "execution_count": 25,
      "outputs": [
        {
          "output_type": "execute_result",
          "data": {
            "text/plain": [
              "25"
            ]
          },
          "metadata": {},
          "execution_count": 25
        }
      ]
    },
    {
      "cell_type": "code",
      "source": [
        "y = input (\"Digite o número desejado: \")\n",
        "calculo = int(y) ** 2\n",
        "print(\"o dobro do valor é :\", calculo)"
      ],
      "metadata": {
        "colab": {
          "base_uri": "https://localhost:8080/"
        },
        "id": "si3PVeW6mAEb",
        "outputId": "69e06f52-46b0-4baa-a58e-b38c16b2689e"
      },
      "execution_count": 26,
      "outputs": [
        {
          "output_type": "stream",
          "name": "stdout",
          "text": [
            "Digite o número desejado: 5\n",
            "o dobro do valor é : 25\n"
          ]
        }
      ]
    },
    {
      "cell_type": "code",
      "source": [
        "type (y)"
      ],
      "metadata": {
        "colab": {
          "base_uri": "https://localhost:8080/"
        },
        "id": "lJhCRjJgmK4i",
        "outputId": "b63d95dc-a98e-4703-9ecf-cafdd7f009be"
      },
      "execution_count": 27,
      "outputs": [
        {
          "output_type": "execute_result",
          "data": {
            "text/plain": [
              "str"
            ]
          },
          "metadata": {},
          "execution_count": 27
        }
      ]
    },
    {
      "cell_type": "code",
      "source": [
        "type(calculo)"
      ],
      "metadata": {
        "colab": {
          "base_uri": "https://localhost:8080/"
        },
        "id": "6XWr6V_-mZJq",
        "outputId": "3f03a21f-4d9d-484e-bb6a-4e705c4f93be"
      },
      "execution_count": 28,
      "outputs": [
        {
          "output_type": "execute_result",
          "data": {
            "text/plain": [
              "int"
            ]
          },
          "metadata": {},
          "execution_count": 28
        }
      ]
    },
    {
      "cell_type": "code",
      "source": [],
      "metadata": {
        "id": "TWjLlfxdmmQ7"
      },
      "execution_count": 28,
      "outputs": []
    },
    {
      "cell_type": "markdown",
      "source": [
        "### variaveis agrupadoras (nativas do python)"
      ],
      "metadata": {
        "id": "-pCJa4tJoEba"
      }
    },
    {
      "cell_type": "markdown",
      "source": [
        "- Acesse esse [link aqui](https://www.w3schools.com/python/python_datatypes.asp)"
      ],
      "metadata": {
        "id": "ujApkqzcofpa"
      }
    },
    {
      "cell_type": "markdown",
      "source": [
        "principais tipos de agrupadores nativos:\n",
        "- lista\n",
        "- dicionario\n",
        "- tuplas"
      ],
      "metadata": {
        "id": "ZUIEox_BpS9T"
      }
    },
    {
      "cell_type": "markdown",
      "source": [
        "#### LISTAS"
      ],
      "metadata": {
        "id": "YDI-QL21pdSS"
      }
    },
    {
      "cell_type": "code",
      "source": [
        "lista_de_compras = [\"fruta\", \"legumes\",\"bebidas\",\"doces\"]"
      ],
      "metadata": {
        "id": "Mb-Jkp8Aok3B"
      },
      "execution_count": 29,
      "outputs": []
    },
    {
      "cell_type": "code",
      "source": [
        "lista_de_compras"
      ],
      "metadata": {
        "colab": {
          "base_uri": "https://localhost:8080/"
        },
        "id": "RrmNK7rKo5tT",
        "outputId": "bc290b82-be20-4275-f36c-142dd82a161b"
      },
      "execution_count": 30,
      "outputs": [
        {
          "output_type": "execute_result",
          "data": {
            "text/plain": [
              "['fruta', 'legumes', 'bebidas', 'doces']"
            ]
          },
          "metadata": {},
          "execution_count": 30
        }
      ]
    },
    {
      "cell_type": "code",
      "source": [
        "lista_aleatoria = [1, 5, 8, \"abacate\", 9 ,\"8\",penalzao]"
      ],
      "metadata": {
        "id": "CZXNzQ2mo78J"
      },
      "execution_count": 31,
      "outputs": []
    },
    {
      "cell_type": "code",
      "source": [
        "lista_aleatoria"
      ],
      "metadata": {
        "colab": {
          "base_uri": "https://localhost:8080/"
        },
        "id": "euhg-s6-pM1K",
        "outputId": "c004d557-8b4f-4a59-ffb7-827c2c97b439"
      },
      "execution_count": 32,
      "outputs": [
        {
          "output_type": "execute_result",
          "data": {
            "text/plain": [
              "[1, 5, 8, 'abacate', 9, '8', <function __main__.penalzao(numero)>]"
            ]
          },
          "metadata": {},
          "execution_count": 32
        }
      ]
    },
    {
      "cell_type": "code",
      "source": [
        "lista_de_compras.append(\"sabão\")\n",
        "lista_de_compras"
      ],
      "metadata": {
        "colab": {
          "base_uri": "https://localhost:8080/"
        },
        "id": "Pfc9Q4v2pO2B",
        "outputId": "9c6fe8bf-0624-47df-99fe-3b2b9383c48f"
      },
      "execution_count": 33,
      "outputs": [
        {
          "output_type": "execute_result",
          "data": {
            "text/plain": [
              "['fruta', 'legumes', 'bebidas', 'doces', 'sabão']"
            ]
          },
          "metadata": {},
          "execution_count": 33
        }
      ]
    },
    {
      "cell_type": "code",
      "source": [
        "lista_de_compras.remove(\"doces\")\n",
        "lista_de_compras"
      ],
      "metadata": {
        "colab": {
          "base_uri": "https://localhost:8080/"
        },
        "id": "48y_thj7p4Jx",
        "outputId": "b962e2d4-30db-4b7f-8d82-d887441580c7"
      },
      "execution_count": 34,
      "outputs": [
        {
          "output_type": "execute_result",
          "data": {
            "text/plain": [
              "['fruta', 'legumes', 'bebidas', 'sabão']"
            ]
          },
          "metadata": {},
          "execution_count": 34
        }
      ]
    },
    {
      "cell_type": "markdown",
      "source": [
        "[clique aqui](https://www.w3schools.com/python/python_lists_methods.asp) e acesso os metodos de listas"
      ],
      "metadata": {
        "id": "6XNgtxA2qpwK"
      }
    },
    {
      "cell_type": "code",
      "source": [
        "frutas = [\"maça\", \"banana\",\"cereja\"]\n",
        "frutas.pop(1)"
      ],
      "metadata": {
        "colab": {
          "base_uri": "https://localhost:8080/",
          "height": 0
        },
        "id": "DQvXy2GzqqUg",
        "outputId": "6d4080ce-a4fb-498c-be56-0f111eecb8cb"
      },
      "execution_count": 35,
      "outputs": [
        {
          "output_type": "execute_result",
          "data": {
            "text/plain": [
              "'banana'"
            ],
            "application/vnd.google.colaboratory.intrinsic+json": {
              "type": "string"
            }
          },
          "metadata": {},
          "execution_count": 35
        }
      ]
    },
    {
      "cell_type": "code",
      "source": [
        "frutas"
      ],
      "metadata": {
        "colab": {
          "base_uri": "https://localhost:8080/"
        },
        "id": "4UVqew9arFj6",
        "outputId": "901f4722-58a7-47fc-9796-e7bbe8d32ad2"
      },
      "execution_count": 36,
      "outputs": [
        {
          "output_type": "execute_result",
          "data": {
            "text/plain": [
              "['maça', 'cereja']"
            ]
          },
          "metadata": {},
          "execution_count": 36
        }
      ]
    },
    {
      "cell_type": "markdown",
      "source": [
        "#### Dicionarios"
      ],
      "metadata": {
        "id": "AFzWjDD4rRb8"
      }
    },
    {
      "cell_type": "code",
      "source": [
        "aluno = {\"nome\": \"joviano\",\"cursos\":\"20\",\"idade\":25}"
      ],
      "metadata": {
        "id": "xW-GuHiVrVbZ"
      },
      "execution_count": 37,
      "outputs": []
    },
    {
      "cell_type": "code",
      "source": [
        "aluno"
      ],
      "metadata": {
        "colab": {
          "base_uri": "https://localhost:8080/"
        },
        "id": "o53PgB3HsEwb",
        "outputId": "8c3b8a22-9ebb-4ee5-b3db-b98aaf26fc2d"
      },
      "execution_count": 38,
      "outputs": [
        {
          "output_type": "execute_result",
          "data": {
            "text/plain": [
              "{'nome': 'joviano', 'cursos': '20', 'idade': 25}"
            ]
          },
          "metadata": {},
          "execution_count": 38
        }
      ]
    },
    {
      "cell_type": "code",
      "source": [
        "aluno.keys()"
      ],
      "metadata": {
        "colab": {
          "base_uri": "https://localhost:8080/"
        },
        "id": "Yd5go5dpsFV4",
        "outputId": "082225f7-9bac-45e6-b130-3ab1c97aed47"
      },
      "execution_count": 39,
      "outputs": [
        {
          "output_type": "execute_result",
          "data": {
            "text/plain": [
              "dict_keys(['nome', 'cursos', 'idade'])"
            ]
          },
          "metadata": {},
          "execution_count": 39
        }
      ]
    },
    {
      "cell_type": "code",
      "source": [
        "aluno.get(\"nome\")"
      ],
      "metadata": {
        "colab": {
          "base_uri": "https://localhost:8080/",
          "height": 0
        },
        "id": "bdFvcA9GsMLZ",
        "outputId": "b7bfcf66-4ac5-4ab6-e0a8-9b6c40e22a8e"
      },
      "execution_count": 40,
      "outputs": [
        {
          "output_type": "execute_result",
          "data": {
            "text/plain": [
              "'joviano'"
            ],
            "application/vnd.google.colaboratory.intrinsic+json": {
              "type": "string"
            }
          },
          "metadata": {},
          "execution_count": 40
        }
      ]
    },
    {
      "cell_type": "code",
      "source": [
        "aluno[\"altura\"] = 1.8"
      ],
      "metadata": {
        "id": "zeNK50rlsRjy"
      },
      "execution_count": 41,
      "outputs": []
    },
    {
      "cell_type": "code",
      "source": [
        "aluno"
      ],
      "metadata": {
        "colab": {
          "base_uri": "https://localhost:8080/"
        },
        "id": "rjS2BX2_skdx",
        "outputId": "eaa12ba5-3c2a-40af-cdd7-682f19ba428a"
      },
      "execution_count": 42,
      "outputs": [
        {
          "output_type": "execute_result",
          "data": {
            "text/plain": [
              "{'nome': 'joviano', 'cursos': '20', 'idade': 25, 'altura': 1.8}"
            ]
          },
          "metadata": {},
          "execution_count": 42
        }
      ]
    },
    {
      "cell_type": "code",
      "source": [
        "aluno.pop(\"cursos\")"
      ],
      "metadata": {
        "colab": {
          "base_uri": "https://localhost:8080/",
          "height": 0
        },
        "id": "aUXI9aJAslaB",
        "outputId": "90a91e0a-4a6a-4191-f4f4-d976e59303b9"
      },
      "execution_count": 43,
      "outputs": [
        {
          "output_type": "execute_result",
          "data": {
            "text/plain": [
              "'20'"
            ],
            "application/vnd.google.colaboratory.intrinsic+json": {
              "type": "string"
            }
          },
          "metadata": {},
          "execution_count": 43
        }
      ]
    },
    {
      "cell_type": "code",
      "source": [
        "aluno"
      ],
      "metadata": {
        "colab": {
          "base_uri": "https://localhost:8080/"
        },
        "id": "WO7SsbALs8Ta",
        "outputId": "bd814df6-1910-43e7-dfbb-c2c8aec4d7c7"
      },
      "execution_count": 44,
      "outputs": [
        {
          "output_type": "execute_result",
          "data": {
            "text/plain": [
              "{'nome': 'joviano', 'idade': 25, 'altura': 1.8}"
            ]
          },
          "metadata": {},
          "execution_count": 44
        }
      ]
    },
    {
      "cell_type": "code",
      "source": [
        "aluno.keys()"
      ],
      "metadata": {
        "colab": {
          "base_uri": "https://localhost:8080/"
        },
        "id": "RHc3gUvCs97q",
        "outputId": "39d048ad-751c-4e21-f44b-aee2a2a04ed7"
      },
      "execution_count": 45,
      "outputs": [
        {
          "output_type": "execute_result",
          "data": {
            "text/plain": [
              "dict_keys(['nome', 'idade', 'altura'])"
            ]
          },
          "metadata": {},
          "execution_count": 45
        }
      ]
    },
    {
      "cell_type": "markdown",
      "source": [
        "- **TUPLAS** : são as listas de certa forma imutaveis, inalteraveis, sem edições, sempre constante da forma e com os elementos definidos.\n",
        "- count()\n",
        "- Index()"
      ],
      "metadata": {
        "id": "FeXOfQ3IteKB"
      }
    },
    {
      "cell_type": "markdown",
      "source": [
        "### Condicionais Simples [famoso SE]"
      ],
      "metadata": {
        "id": "FXQSmEAxQb_c"
      }
    },
    {
      "cell_type": "markdown",
      "source": [
        "Função para gravar o texto em um txt"
      ],
      "metadata": {
        "id": "gXJYvGSHCxhN"
      }
    },
    {
      "cell_type": "code",
      "source": [
        "def registrar_dados(nome_aluno,nota,arquivo_gravar):\n",
        "  with open(arquivo_gravar, 'a') as txt:\n",
        "    texto_gravar_na_linha = nome_aluno + ',' + str(nota) + '\\n'\n",
        "    txt.write(texto_gravar_na_linha)"
      ],
      "metadata": {
        "id": "6tJKKPxxVoif"
      },
      "execution_count": 46,
      "outputs": []
    },
    {
      "cell_type": "markdown",
      "source": [
        "Implementação do texto na condicional"
      ],
      "metadata": {
        "id": "Z8UuEjavC3jl"
      }
    },
    {
      "cell_type": "code",
      "source": [
        "aluno = {'nome':'pedro','nota':4}\n",
        "nota = aluno.get('nota')\n",
        "aluno_nome = aluno.get('nome')"
      ],
      "metadata": {
        "id": "dSlJZBnOQgq7"
      },
      "execution_count": 47,
      "outputs": []
    },
    {
      "cell_type": "code",
      "source": [
        "type(nota)"
      ],
      "metadata": {
        "colab": {
          "base_uri": "https://localhost:8080/"
        },
        "id": "CczZmWBrVvbu",
        "outputId": "60926363-15af-4c5e-9e4a-1390adff0073"
      },
      "execution_count": 48,
      "outputs": [
        {
          "output_type": "execute_result",
          "data": {
            "text/plain": [
              "int"
            ]
          },
          "metadata": {},
          "execution_count": 48
        }
      ]
    },
    {
      "cell_type": "code",
      "source": [
        "limite = 5\n",
        "folga = nota - limite\n",
        "print(\"avaliando aluno\", aluno_nome)\n",
        "if nota >= limite :\n",
        "    print(\"passou\");\n",
        "    print(\"sobrou\",folga,\"pontos\")\n",
        "  # gravar no arquivo txt nomeado 'apr.txt'\n",
        "    registrar_dados(aluno_nome,nota,'apr.txt')\n",
        "else:\n",
        "    print(\"reprovou\")\n",
        "    print(\"faltou\", abs(folga),\"pontos\")\n",
        "  # gravar no arquivo txt nomeado 'rep.txt'\n",
        "    registrar_dados(aluno_nome,nota,'rep.txt')\n",
        "\n",
        "    print(\"finalizei\")"
      ],
      "metadata": {
        "colab": {
          "base_uri": "https://localhost:8080/"
        },
        "id": "jVMQsJMsQsad",
        "outputId": "ff529c30-a53e-4f5b-e471-be18156e8218"
      },
      "execution_count": 49,
      "outputs": [
        {
          "output_type": "stream",
          "name": "stdout",
          "text": [
            "avaliando aluno pedro\n",
            "reprovou\n",
            "faltou 1 pontos\n",
            "finalizei\n"
          ]
        }
      ]
    },
    {
      "cell_type": "markdown",
      "source": [
        "### Condicionais Compostas"
      ],
      "metadata": {
        "id": "qizX82iuFjC_"
      }
    },
    {
      "cell_type": "code",
      "source": [
        "carteira = 8\n",
        "pizza = 50\n",
        "x_salada = 10"
      ],
      "metadata": {
        "id": "UNPQDT54FmZt"
      },
      "execution_count": 50,
      "outputs": []
    },
    {
      "cell_type": "code",
      "source": [
        "if carteira >= pizza:\n",
        "  sobra = carteira - pizza\n",
        "  print('Vou comer PIZZA e ainda vai me sobrar', sobra, 'reais')\n",
        "elif carteira >= x_salada:\n",
        "  sobra = carteira - x_salada\n",
        "  print('vou comer X SALADA e ainda vai me sobrar', sobra , 'reais')\n",
        "else:\n",
        "  print('não tenho dinheiro suficiente')"
      ],
      "metadata": {
        "colab": {
          "base_uri": "https://localhost:8080/"
        },
        "id": "lmnYhSbKFtbe",
        "outputId": "93adfae2-bf7c-46db-c8f4-2e372f438433"
      },
      "execution_count": 51,
      "outputs": [
        {
          "output_type": "stream",
          "name": "stdout",
          "text": [
            "não tenho dinheiro suficiente\n"
          ]
        }
      ]
    },
    {
      "cell_type": "code",
      "source": [
        "x = 5\n",
        "y = 10\n",
        "\n",
        "x > 2 or y <9"
      ],
      "metadata": {
        "colab": {
          "base_uri": "https://localhost:8080/"
        },
        "id": "-oKoIPkSICY-",
        "outputId": "02a249d6-fbdb-44f6-a310-685374b978d6"
      },
      "execution_count": 52,
      "outputs": [
        {
          "output_type": "execute_result",
          "data": {
            "text/plain": [
              "True"
            ]
          },
          "metadata": {},
          "execution_count": 52
        }
      ]
    },
    {
      "cell_type": "code",
      "source": [
        "idade = 16\n",
        "sexo = 'f'\n",
        "\n",
        "if sexo == 'm' and idade>= 7 and idade <= 13:\n",
        "  if idade <= 10:\n",
        "    print (' time 1 M')\n",
        "  else:\n",
        "    print('time 2 M')\n",
        "\n",
        "elif sexo == 'f' and idade>= 9 and idade <= 15:\n",
        "  if idade <= 11:\n",
        "    print (' time 1 F')\n",
        "  else:\n",
        "    print('time 2 F')\n",
        "else:\n",
        "  print('essa pessoa não pode jogar !!!')"
      ],
      "metadata": {
        "colab": {
          "base_uri": "https://localhost:8080/"
        },
        "id": "DIgJE114GnsQ",
        "outputId": "6a2a1091-0e19-4435-97d9-84beff7ff380"
      },
      "execution_count": 53,
      "outputs": [
        {
          "output_type": "stream",
          "name": "stdout",
          "text": [
            "essa pessoa não pode jogar !!!\n"
          ]
        }
      ]
    },
    {
      "cell_type": "markdown",
      "source": [
        "### LOOPS"
      ],
      "metadata": {
        "id": "NoaUlj_VJ4o2"
      }
    },
    {
      "cell_type": "markdown",
      "source": [
        "NOS TEMOS 2 TIPOS DE LOOPS\n",
        "- for (para cada)\n",
        "- while (enquanto)"
      ],
      "metadata": {
        "id": "kptM-8TIKPfl"
      }
    },
    {
      "cell_type": "markdown",
      "source": [
        "#### FOR"
      ],
      "metadata": {
        "id": "JTl7gznqld8T"
      }
    },
    {
      "cell_type": "code",
      "source": [
        "lista_de_compras"
      ],
      "metadata": {
        "colab": {
          "base_uri": "https://localhost:8080/"
        },
        "id": "E--n3BJkKXT9",
        "outputId": "2fa17527-ab9d-4004-9fb4-541c177c121c"
      },
      "execution_count": 54,
      "outputs": [
        {
          "output_type": "execute_result",
          "data": {
            "text/plain": [
              "['fruta', 'legumes', 'bebidas', 'sabão']"
            ]
          },
          "metadata": {},
          "execution_count": 54
        }
      ]
    },
    {
      "cell_type": "code",
      "source": [
        "for item in lista_de_compras:\n",
        "    print('Coloque o produto na sacola: ', item)\n",
        "    print('Vamos para o próximo item')\n",
        "    print('-'*30)"
      ],
      "metadata": {
        "id": "x7k0s_kOKbyN",
        "colab": {
          "base_uri": "https://localhost:8080/"
        },
        "outputId": "17a7333b-7699-4ed0-9f37-e97fa4b4d3d1"
      },
      "execution_count": 56,
      "outputs": [
        {
          "output_type": "stream",
          "name": "stdout",
          "text": [
            "Coloque o produto na sacola:  fruta\n",
            "Vamos para o próximo item\n",
            "------------------------------\n",
            "Coloque o produto na sacola:  legumes\n",
            "Vamos para o próximo item\n",
            "------------------------------\n",
            "Coloque o produto na sacola:  bebidas\n",
            "Vamos para o próximo item\n",
            "------------------------------\n",
            "Coloque o produto na sacola:  sabão\n",
            "Vamos para o próximo item\n",
            "------------------------------\n"
          ]
        }
      ]
    },
    {
      "cell_type": "code",
      "source": [
        "base = 7\n",
        "\n",
        "for item in [1,2,3,4,5,6,7,8,9,10]:\n",
        "  print(f'A Multiplicação de {base} x {item} = {item * base}')\n",
        "  print('-'*30)"
      ],
      "metadata": {
        "colab": {
          "base_uri": "https://localhost:8080/"
        },
        "id": "ugAywnZxfa7o",
        "outputId": "ffd1c9bd-04f3-4b53-c475-56a303f5a41c"
      },
      "execution_count": 58,
      "outputs": [
        {
          "output_type": "stream",
          "name": "stdout",
          "text": [
            "A Multiplicação de 7 x 1 = 7\n",
            "------------------------------\n",
            "A Multiplicação de 7 x 2 = 14\n",
            "------------------------------\n",
            "A Multiplicação de 7 x 3 = 21\n",
            "------------------------------\n",
            "A Multiplicação de 7 x 4 = 28\n",
            "------------------------------\n",
            "A Multiplicação de 7 x 5 = 35\n",
            "------------------------------\n",
            "A Multiplicação de 7 x 6 = 42\n",
            "------------------------------\n",
            "A Multiplicação de 7 x 7 = 49\n",
            "------------------------------\n",
            "A Multiplicação de 7 x 8 = 56\n",
            "------------------------------\n",
            "A Multiplicação de 7 x 9 = 63\n",
            "------------------------------\n",
            "A Multiplicação de 7 x 10 = 70\n",
            "------------------------------\n"
          ]
        }
      ]
    },
    {
      "cell_type": "code",
      "source": [
        "base = 5\n",
        "\n",
        "for item in range(10):\n",
        "  multiplicador = item + 1\n",
        "  print(f'A Multiplicação de {base} x {multiplicador} = {multiplicador * base}')\n",
        "  print('-'*30)"
      ],
      "metadata": {
        "colab": {
          "base_uri": "https://localhost:8080/"
        },
        "id": "U-9T2mU1jQd1",
        "outputId": "37f567b5-010d-4472-cd2b-9344239209df"
      },
      "execution_count": 59,
      "outputs": [
        {
          "output_type": "stream",
          "name": "stdout",
          "text": [
            "A Multiplicação de 5 x 1 = 5\n",
            "------------------------------\n",
            "A Multiplicação de 5 x 2 = 10\n",
            "------------------------------\n",
            "A Multiplicação de 5 x 3 = 15\n",
            "------------------------------\n",
            "A Multiplicação de 5 x 4 = 20\n",
            "------------------------------\n",
            "A Multiplicação de 5 x 5 = 25\n",
            "------------------------------\n",
            "A Multiplicação de 5 x 6 = 30\n",
            "------------------------------\n",
            "A Multiplicação de 5 x 7 = 35\n",
            "------------------------------\n",
            "A Multiplicação de 5 x 8 = 40\n",
            "------------------------------\n",
            "A Multiplicação de 5 x 9 = 45\n",
            "------------------------------\n",
            "A Multiplicação de 5 x 10 = 50\n",
            "------------------------------\n"
          ]
        }
      ]
    },
    {
      "cell_type": "code",
      "source": [
        "base = 3\n",
        "\n",
        "for item in range(10):\n",
        "  multiplicador = item + 1\n",
        "  txt = f'A Multiplicação de {base} x {multiplicador} = {multiplicador * base}'\n",
        "  print(txt)\n",
        "  registrar_dados(txt, '', 'taboada.txt')"
      ],
      "metadata": {
        "colab": {
          "base_uri": "https://localhost:8080/"
        },
        "id": "R-PXYeUIkFrY",
        "outputId": "2fecbf1b-3291-44e9-811a-476fbdb65b6a"
      },
      "execution_count": 61,
      "outputs": [
        {
          "output_type": "stream",
          "name": "stdout",
          "text": [
            "A Multiplicação de 3 x 1 = 3\n",
            "A Multiplicação de 3 x 2 = 6\n",
            "A Multiplicação de 3 x 3 = 9\n",
            "A Multiplicação de 3 x 4 = 12\n",
            "A Multiplicação de 3 x 5 = 15\n",
            "A Multiplicação de 3 x 6 = 18\n",
            "A Multiplicação de 3 x 7 = 21\n",
            "A Multiplicação de 3 x 8 = 24\n",
            "A Multiplicação de 3 x 9 = 27\n",
            "A Multiplicação de 3 x 10 = 30\n"
          ]
        }
      ]
    },
    {
      "cell_type": "markdown",
      "source": [
        "#### WHILE"
      ],
      "metadata": {
        "id": "VqGcpGNllo1e"
      }
    },
    {
      "cell_type": "code",
      "source": [
        "base = 5\n",
        "qtd = 4\n",
        "\n",
        "inicio = 1\n",
        "\n",
        "while inicio <= qtd:\n",
        "  txt = f'A Multiplicação de {base} x {inicio} = {inicio * base}'\n",
        "  print(txt)\n",
        "\n",
        "  inicio += 1"
      ],
      "metadata": {
        "colab": {
          "base_uri": "https://localhost:8080/"
        },
        "id": "Kh0JjMuplrA2",
        "outputId": "cb7908a0-acb1-4c85-b286-c4a61dbdf4d2"
      },
      "execution_count": 62,
      "outputs": [
        {
          "output_type": "stream",
          "name": "stdout",
          "text": [
            "A Multiplicação de 5 x 1 = 5\n",
            "A Multiplicação de 5 x 2 = 10\n",
            "A Multiplicação de 5 x 3 = 15\n",
            "A Multiplicação de 5 x 4 = 20\n"
          ]
        }
      ]
    },
    {
      "cell_type": "markdown",
      "source": [
        "A espera da senha"
      ],
      "metadata": {
        "id": "kkfsWpqg1mfo"
      }
    },
    {
      "cell_type": "code",
      "source": [
        "while True:\n",
        "  x = input ('Digite sua senha: ')\n",
        "  if x =='root':\n",
        "    print('login efetuado com Sucesso !')\n",
        "    break\n",
        "  else:\n",
        "    print('senha incorreta')\n",
        "    print('tente novamente')\n",
        "    print('.'*30)\n",
        "\n",
        "print('acesso liberado')"
      ],
      "metadata": {
        "colab": {
          "base_uri": "https://localhost:8080/"
        },
        "id": "WQ1bhRHd1n5A",
        "outputId": "fd3aab2b-b20f-4e66-8ddb-44b3e1a9c21f"
      },
      "execution_count": 63,
      "outputs": [
        {
          "output_type": "stream",
          "name": "stdout",
          "text": [
            "Digite sua senha: yuri\n",
            "senha incorreta\n",
            "tente novamente\n",
            "..............................\n",
            "Digite sua senha: dellpozzo\n",
            "senha incorreta\n",
            "tente novamente\n",
            "..............................\n",
            "Digite sua senha: root\n",
            "login efetuado com Sucesso !\n",
            "acesso liberado\n"
          ]
        }
      ]
    },
    {
      "cell_type": "markdown",
      "source": [
        "### BIBLIOTECAS"
      ],
      "metadata": {
        "id": "BLHmXAeh3iwG"
      }
    },
    {
      "cell_type": "markdown",
      "source": [
        "São caixas com ferramentas especiais"
      ],
      "metadata": {
        "id": "tcJXTmpc3oVe"
      }
    },
    {
      "cell_type": "code",
      "source": [
        "import pandas as pd"
      ],
      "metadata": {
        "id": "kvkuhgf536YW"
      },
      "execution_count": 65,
      "outputs": []
    },
    {
      "cell_type": "code",
      "source": [
        "df = pd.read_csv('rep.txt', header = None)"
      ],
      "metadata": {
        "id": "x9xz50cI4LV3"
      },
      "execution_count": 74,
      "outputs": []
    },
    {
      "cell_type": "code",
      "source": [
        "type(df)"
      ],
      "metadata": {
        "colab": {
          "base_uri": "https://localhost:8080/",
          "height": 204
        },
        "id": "6FcuMCUn4SHP",
        "outputId": "3d2737f8-5861-4953-ad16-6e291de3061a"
      },
      "execution_count": 75,
      "outputs": [
        {
          "output_type": "execute_result",
          "data": {
            "text/plain": [
              "pandas.core.frame.DataFrame"
            ],
            "text/html": [
              "<div style=\"max-width:800px; border: 1px solid var(--colab-border-color);\"><style>\n",
              "      pre.function-repr-contents {\n",
              "        overflow-x: auto;\n",
              "        padding: 8px 12px;\n",
              "        max-height: 500px;\n",
              "      }\n",
              "\n",
              "      pre.function-repr-contents.function-repr-contents-collapsed {\n",
              "        cursor: pointer;\n",
              "        max-height: 100px;\n",
              "      }\n",
              "    </style>\n",
              "    <pre style=\"white-space: initial; background:\n",
              "         var(--colab-secondary-surface-color); padding: 8px 12px;\n",
              "         border-bottom: 1px solid var(--colab-border-color);\"><b>pandas.core.frame.DataFrame</b><br/>def __init__(data=None, index: Axes | None=None, columns: Axes | None=None, dtype: Dtype | None=None, copy: bool | None=None) -&gt; None</pre><pre class=\"function-repr-contents function-repr-contents-collapsed\" style=\"\"><a class=\"filepath\" style=\"display:none\" href=\"#\">/usr/local/lib/python3.11/dist-packages/pandas/core/frame.py</a>Two-dimensional, size-mutable, potentially heterogeneous tabular data.\n",
              "\n",
              "Data structure also contains labeled axes (rows and columns).\n",
              "Arithmetic operations align on both row and column labels. Can be\n",
              "thought of as a dict-like container for Series objects. The primary\n",
              "pandas data structure.\n",
              "\n",
              "Parameters\n",
              "----------\n",
              "data : ndarray (structured or homogeneous), Iterable, dict, or DataFrame\n",
              "    Dict can contain Series, arrays, constants, dataclass or list-like objects. If\n",
              "    data is a dict, column order follows insertion-order. If a dict contains Series\n",
              "    which have an index defined, it is aligned by its index. This alignment also\n",
              "    occurs if data is a Series or a DataFrame itself. Alignment is done on\n",
              "    Series/DataFrame inputs.\n",
              "\n",
              "    If data is a list of dicts, column order follows insertion-order.\n",
              "\n",
              "index : Index or array-like\n",
              "    Index to use for resulting frame. Will default to RangeIndex if\n",
              "    no indexing information part of input data and no index provided.\n",
              "columns : Index or array-like\n",
              "    Column labels to use for resulting frame when data does not have them,\n",
              "    defaulting to RangeIndex(0, 1, 2, ..., n). If data contains column labels,\n",
              "    will perform column selection instead.\n",
              "dtype : dtype, default None\n",
              "    Data type to force. Only a single dtype is allowed. If None, infer.\n",
              "copy : bool or None, default None\n",
              "    Copy data from inputs.\n",
              "    For dict data, the default of None behaves like ``copy=True``.  For DataFrame\n",
              "    or 2d ndarray input, the default of None behaves like ``copy=False``.\n",
              "    If data is a dict containing one or more Series (possibly of different dtypes),\n",
              "    ``copy=False`` will ensure that these inputs are not copied.\n",
              "\n",
              "    .. versionchanged:: 1.3.0\n",
              "\n",
              "See Also\n",
              "--------\n",
              "DataFrame.from_records : Constructor from tuples, also record arrays.\n",
              "DataFrame.from_dict : From dicts of Series, arrays, or dicts.\n",
              "read_csv : Read a comma-separated values (csv) file into DataFrame.\n",
              "read_table : Read general delimited file into DataFrame.\n",
              "read_clipboard : Read text from clipboard into DataFrame.\n",
              "\n",
              "Notes\n",
              "-----\n",
              "Please reference the :ref:`User Guide &lt;basics.dataframe&gt;` for more information.\n",
              "\n",
              "Examples\n",
              "--------\n",
              "Constructing DataFrame from a dictionary.\n",
              "\n",
              "&gt;&gt;&gt; d = {&#x27;col1&#x27;: [1, 2], &#x27;col2&#x27;: [3, 4]}\n",
              "&gt;&gt;&gt; df = pd.DataFrame(data=d)\n",
              "&gt;&gt;&gt; df\n",
              "   col1  col2\n",
              "0     1     3\n",
              "1     2     4\n",
              "\n",
              "Notice that the inferred dtype is int64.\n",
              "\n",
              "&gt;&gt;&gt; df.dtypes\n",
              "col1    int64\n",
              "col2    int64\n",
              "dtype: object\n",
              "\n",
              "To enforce a single dtype:\n",
              "\n",
              "&gt;&gt;&gt; df = pd.DataFrame(data=d, dtype=np.int8)\n",
              "&gt;&gt;&gt; df.dtypes\n",
              "col1    int8\n",
              "col2    int8\n",
              "dtype: object\n",
              "\n",
              "Constructing DataFrame from a dictionary including Series:\n",
              "\n",
              "&gt;&gt;&gt; d = {&#x27;col1&#x27;: [0, 1, 2, 3], &#x27;col2&#x27;: pd.Series([2, 3], index=[2, 3])}\n",
              "&gt;&gt;&gt; pd.DataFrame(data=d, index=[0, 1, 2, 3])\n",
              "   col1  col2\n",
              "0     0   NaN\n",
              "1     1   NaN\n",
              "2     2   2.0\n",
              "3     3   3.0\n",
              "\n",
              "Constructing DataFrame from numpy ndarray:\n",
              "\n",
              "&gt;&gt;&gt; df2 = pd.DataFrame(np.array([[1, 2, 3], [4, 5, 6], [7, 8, 9]]),\n",
              "...                    columns=[&#x27;a&#x27;, &#x27;b&#x27;, &#x27;c&#x27;])\n",
              "&gt;&gt;&gt; df2\n",
              "   a  b  c\n",
              "0  1  2  3\n",
              "1  4  5  6\n",
              "2  7  8  9\n",
              "\n",
              "Constructing DataFrame from a numpy ndarray that has labeled columns:\n",
              "\n",
              "&gt;&gt;&gt; data = np.array([(1, 2, 3), (4, 5, 6), (7, 8, 9)],\n",
              "...                 dtype=[(&quot;a&quot;, &quot;i4&quot;), (&quot;b&quot;, &quot;i4&quot;), (&quot;c&quot;, &quot;i4&quot;)])\n",
              "&gt;&gt;&gt; df3 = pd.DataFrame(data, columns=[&#x27;c&#x27;, &#x27;a&#x27;])\n",
              "...\n",
              "&gt;&gt;&gt; df3\n",
              "   c  a\n",
              "0  3  1\n",
              "1  6  4\n",
              "2  9  7\n",
              "\n",
              "Constructing DataFrame from dataclass:\n",
              "\n",
              "&gt;&gt;&gt; from dataclasses import make_dataclass\n",
              "&gt;&gt;&gt; Point = make_dataclass(&quot;Point&quot;, [(&quot;x&quot;, int), (&quot;y&quot;, int)])\n",
              "&gt;&gt;&gt; pd.DataFrame([Point(0, 0), Point(0, 3), Point(2, 3)])\n",
              "   x  y\n",
              "0  0  0\n",
              "1  0  3\n",
              "2  2  3\n",
              "\n",
              "Constructing DataFrame from Series/DataFrame:\n",
              "\n",
              "&gt;&gt;&gt; ser = pd.Series([1, 2, 3], index=[&quot;a&quot;, &quot;b&quot;, &quot;c&quot;])\n",
              "&gt;&gt;&gt; df = pd.DataFrame(data=ser, index=[&quot;a&quot;, &quot;c&quot;])\n",
              "&gt;&gt;&gt; df\n",
              "   0\n",
              "a  1\n",
              "c  3\n",
              "\n",
              "&gt;&gt;&gt; df1 = pd.DataFrame([1, 2, 3], index=[&quot;a&quot;, &quot;b&quot;, &quot;c&quot;], columns=[&quot;x&quot;])\n",
              "&gt;&gt;&gt; df2 = pd.DataFrame(data=df1, index=[&quot;a&quot;, &quot;c&quot;])\n",
              "&gt;&gt;&gt; df2\n",
              "   x\n",
              "a  1\n",
              "c  3</pre>\n",
              "      <script>\n",
              "      if (google.colab.kernel.accessAllowed && google.colab.files && google.colab.files.view) {\n",
              "        for (const element of document.querySelectorAll('.filepath')) {\n",
              "          element.style.display = 'block'\n",
              "          element.onclick = (event) => {\n",
              "            event.preventDefault();\n",
              "            event.stopPropagation();\n",
              "            google.colab.files.view(element.textContent, 509);\n",
              "          };\n",
              "        }\n",
              "      }\n",
              "      for (const element of document.querySelectorAll('.function-repr-contents')) {\n",
              "        element.onclick = (event) => {\n",
              "          event.preventDefault();\n",
              "          event.stopPropagation();\n",
              "          element.classList.toggle('function-repr-contents-collapsed');\n",
              "        };\n",
              "      }\n",
              "      </script>\n",
              "      </div>"
            ]
          },
          "metadata": {},
          "execution_count": 75
        }
      ]
    },
    {
      "cell_type": "code",
      "source": [
        "df['jovi'] = 'a'"
      ],
      "metadata": {
        "id": "m9uKX23q5Qhq"
      },
      "execution_count": 77,
      "outputs": []
    },
    {
      "cell_type": "code",
      "source": [
        "df"
      ],
      "metadata": {
        "colab": {
          "base_uri": "https://localhost:8080/",
          "height": 89
        },
        "id": "wqI0GiuV5U7h",
        "outputId": "023746be-9358-496f-fae9-73f1679d34b7"
      },
      "execution_count": 79,
      "outputs": [
        {
          "output_type": "execute_result",
          "data": {
            "text/plain": [
              "       0  1 jovi\n",
              "0  pedro  4    a"
            ],
            "text/html": [
              "\n",
              "  <div id=\"df-8438e4ff-5599-4ac5-b99a-8ce61bdd627e\" class=\"colab-df-container\">\n",
              "    <div>\n",
              "<style scoped>\n",
              "    .dataframe tbody tr th:only-of-type {\n",
              "        vertical-align: middle;\n",
              "    }\n",
              "\n",
              "    .dataframe tbody tr th {\n",
              "        vertical-align: top;\n",
              "    }\n",
              "\n",
              "    .dataframe thead th {\n",
              "        text-align: right;\n",
              "    }\n",
              "</style>\n",
              "<table border=\"1\" class=\"dataframe\">\n",
              "  <thead>\n",
              "    <tr style=\"text-align: right;\">\n",
              "      <th></th>\n",
              "      <th>0</th>\n",
              "      <th>1</th>\n",
              "      <th>jovi</th>\n",
              "    </tr>\n",
              "  </thead>\n",
              "  <tbody>\n",
              "    <tr>\n",
              "      <th>0</th>\n",
              "      <td>pedro</td>\n",
              "      <td>4</td>\n",
              "      <td>a</td>\n",
              "    </tr>\n",
              "  </tbody>\n",
              "</table>\n",
              "</div>\n",
              "    <div class=\"colab-df-buttons\">\n",
              "\n",
              "  <div class=\"colab-df-container\">\n",
              "    <button class=\"colab-df-convert\" onclick=\"convertToInteractive('df-8438e4ff-5599-4ac5-b99a-8ce61bdd627e')\"\n",
              "            title=\"Convert this dataframe to an interactive table.\"\n",
              "            style=\"display:none;\">\n",
              "\n",
              "  <svg xmlns=\"http://www.w3.org/2000/svg\" height=\"24px\" viewBox=\"0 -960 960 960\">\n",
              "    <path d=\"M120-120v-720h720v720H120Zm60-500h600v-160H180v160Zm220 220h160v-160H400v160Zm0 220h160v-160H400v160ZM180-400h160v-160H180v160Zm440 0h160v-160H620v160ZM180-180h160v-160H180v160Zm440 0h160v-160H620v160Z\"/>\n",
              "  </svg>\n",
              "    </button>\n",
              "\n",
              "  <style>\n",
              "    .colab-df-container {\n",
              "      display:flex;\n",
              "      gap: 12px;\n",
              "    }\n",
              "\n",
              "    .colab-df-convert {\n",
              "      background-color: #E8F0FE;\n",
              "      border: none;\n",
              "      border-radius: 50%;\n",
              "      cursor: pointer;\n",
              "      display: none;\n",
              "      fill: #1967D2;\n",
              "      height: 32px;\n",
              "      padding: 0 0 0 0;\n",
              "      width: 32px;\n",
              "    }\n",
              "\n",
              "    .colab-df-convert:hover {\n",
              "      background-color: #E2EBFA;\n",
              "      box-shadow: 0px 1px 2px rgba(60, 64, 67, 0.3), 0px 1px 3px 1px rgba(60, 64, 67, 0.15);\n",
              "      fill: #174EA6;\n",
              "    }\n",
              "\n",
              "    .colab-df-buttons div {\n",
              "      margin-bottom: 4px;\n",
              "    }\n",
              "\n",
              "    [theme=dark] .colab-df-convert {\n",
              "      background-color: #3B4455;\n",
              "      fill: #D2E3FC;\n",
              "    }\n",
              "\n",
              "    [theme=dark] .colab-df-convert:hover {\n",
              "      background-color: #434B5C;\n",
              "      box-shadow: 0px 1px 3px 1px rgba(0, 0, 0, 0.15);\n",
              "      filter: drop-shadow(0px 1px 2px rgba(0, 0, 0, 0.3));\n",
              "      fill: #FFFFFF;\n",
              "    }\n",
              "  </style>\n",
              "\n",
              "    <script>\n",
              "      const buttonEl =\n",
              "        document.querySelector('#df-8438e4ff-5599-4ac5-b99a-8ce61bdd627e button.colab-df-convert');\n",
              "      buttonEl.style.display =\n",
              "        google.colab.kernel.accessAllowed ? 'block' : 'none';\n",
              "\n",
              "      async function convertToInteractive(key) {\n",
              "        const element = document.querySelector('#df-8438e4ff-5599-4ac5-b99a-8ce61bdd627e');\n",
              "        const dataTable =\n",
              "          await google.colab.kernel.invokeFunction('convertToInteractive',\n",
              "                                                    [key], {});\n",
              "        if (!dataTable) return;\n",
              "\n",
              "        const docLinkHtml = 'Like what you see? Visit the ' +\n",
              "          '<a target=\"_blank\" href=https://colab.research.google.com/notebooks/data_table.ipynb>data table notebook</a>'\n",
              "          + ' to learn more about interactive tables.';\n",
              "        element.innerHTML = '';\n",
              "        dataTable['output_type'] = 'display_data';\n",
              "        await google.colab.output.renderOutput(dataTable, element);\n",
              "        const docLink = document.createElement('div');\n",
              "        docLink.innerHTML = docLinkHtml;\n",
              "        element.appendChild(docLink);\n",
              "      }\n",
              "    </script>\n",
              "  </div>\n",
              "\n",
              "\n",
              "  <div id=\"id_7e7fed5f-deb8-40b4-bf48-8459b520294b\">\n",
              "    <style>\n",
              "      .colab-df-generate {\n",
              "        background-color: #E8F0FE;\n",
              "        border: none;\n",
              "        border-radius: 50%;\n",
              "        cursor: pointer;\n",
              "        display: none;\n",
              "        fill: #1967D2;\n",
              "        height: 32px;\n",
              "        padding: 0 0 0 0;\n",
              "        width: 32px;\n",
              "      }\n",
              "\n",
              "      .colab-df-generate:hover {\n",
              "        background-color: #E2EBFA;\n",
              "        box-shadow: 0px 1px 2px rgba(60, 64, 67, 0.3), 0px 1px 3px 1px rgba(60, 64, 67, 0.15);\n",
              "        fill: #174EA6;\n",
              "      }\n",
              "\n",
              "      [theme=dark] .colab-df-generate {\n",
              "        background-color: #3B4455;\n",
              "        fill: #D2E3FC;\n",
              "      }\n",
              "\n",
              "      [theme=dark] .colab-df-generate:hover {\n",
              "        background-color: #434B5C;\n",
              "        box-shadow: 0px 1px 3px 1px rgba(0, 0, 0, 0.15);\n",
              "        filter: drop-shadow(0px 1px 2px rgba(0, 0, 0, 0.3));\n",
              "        fill: #FFFFFF;\n",
              "      }\n",
              "    </style>\n",
              "    <button class=\"colab-df-generate\" onclick=\"generateWithVariable('df')\"\n",
              "            title=\"Generate code using this dataframe.\"\n",
              "            style=\"display:none;\">\n",
              "\n",
              "  <svg xmlns=\"http://www.w3.org/2000/svg\" height=\"24px\"viewBox=\"0 0 24 24\"\n",
              "       width=\"24px\">\n",
              "    <path d=\"M7,19H8.4L18.45,9,17,7.55,7,17.6ZM5,21V16.75L18.45,3.32a2,2,0,0,1,2.83,0l1.4,1.43a1.91,1.91,0,0,1,.58,1.4,1.91,1.91,0,0,1-.58,1.4L9.25,21ZM18.45,9,17,7.55Zm-12,3A5.31,5.31,0,0,0,4.9,8.1,5.31,5.31,0,0,0,1,6.5,5.31,5.31,0,0,0,4.9,4.9,5.31,5.31,0,0,0,6.5,1,5.31,5.31,0,0,0,8.1,4.9,5.31,5.31,0,0,0,12,6.5,5.46,5.46,0,0,0,6.5,12Z\"/>\n",
              "  </svg>\n",
              "    </button>\n",
              "    <script>\n",
              "      (() => {\n",
              "      const buttonEl =\n",
              "        document.querySelector('#id_7e7fed5f-deb8-40b4-bf48-8459b520294b button.colab-df-generate');\n",
              "      buttonEl.style.display =\n",
              "        google.colab.kernel.accessAllowed ? 'block' : 'none';\n",
              "\n",
              "      buttonEl.onclick = () => {\n",
              "        google.colab.notebook.generateWithVariable('df');\n",
              "      }\n",
              "      })();\n",
              "    </script>\n",
              "  </div>\n",
              "\n",
              "    </div>\n",
              "  </div>\n"
            ],
            "application/vnd.google.colaboratory.intrinsic+json": {
              "type": "dataframe",
              "variable_name": "df",
              "summary": "{\n  \"name\": \"df\",\n  \"rows\": 1,\n  \"fields\": [\n    {\n      \"column\": 0,\n      \"properties\": {\n        \"dtype\": \"string\",\n        \"num_unique_values\": 1,\n        \"samples\": [\n          \"pedro\"\n        ],\n        \"semantic_type\": \"\",\n        \"description\": \"\"\n      }\n    },\n    {\n      \"column\": 1,\n      \"properties\": {\n        \"dtype\": \"number\",\n        \"std\": null,\n        \"min\": 4,\n        \"max\": 4,\n        \"num_unique_values\": 1,\n        \"samples\": [\n          4\n        ],\n        \"semantic_type\": \"\",\n        \"description\": \"\"\n      }\n    },\n    {\n      \"column\": \"jovi\",\n      \"properties\": {\n        \"dtype\": \"string\",\n        \"num_unique_values\": 1,\n        \"samples\": [\n          \"a\"\n        ],\n        \"semantic_type\": \"\",\n        \"description\": \"\"\n      }\n    }\n  ]\n}"
            }
          },
          "metadata": {},
          "execution_count": 79
        }
      ]
    }
  ]
}